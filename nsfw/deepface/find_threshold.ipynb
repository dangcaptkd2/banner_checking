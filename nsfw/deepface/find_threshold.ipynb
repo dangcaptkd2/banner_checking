{
 "cells": [
  {
   "cell_type": "code",
   "execution_count": 13,
   "metadata": {},
   "outputs": [],
   "source": [
    "import os \n",
    "from glob import glob\n",
    "import pandas as pd\n",
    "import itertools"
   ]
  },
  {
   "cell_type": "code",
   "execution_count": 6,
   "metadata": {},
   "outputs": [],
   "source": [
    "root = 'C:/Users/quyennt72/Desktop/chinh_khach'\n",
    "idendities = {}\n",
    "for name in os.listdir(root):\n",
    "    idendities[name] = []\n",
    "    for img_path in glob(os.path.join(root, name, '*.jpg')):\n",
    "        idendities[name].append(img_path)"
   ]
  },
  {
   "cell_type": "code",
   "execution_count": 7,
   "metadata": {},
   "outputs": [],
   "source": [
    "positives = []\n",
    "\n",
    "for key, values in idendities.items():\n",
    "    \n",
    "    #print(key)\n",
    "    for i in range(0, len(values)-1):\n",
    "        for j in range(i+1, len(values)):\n",
    "            #print(values[i], \" and \", values[j])\n",
    "            positive = []\n",
    "            positive.append(values[i])\n",
    "            positive.append(values[j])\n",
    "            positives.append(positive)"
   ]
  },
  {
   "cell_type": "code",
   "execution_count": 10,
   "metadata": {},
   "outputs": [],
   "source": [
    "positives = pd.DataFrame(positives, columns = [\"file_x\", \"file_y\"])\n",
    "positives[\"decision\"] = \"Yes\""
   ]
  },
  {
   "cell_type": "code",
   "execution_count": 12,
   "metadata": {},
   "outputs": [],
   "source": [
    "samples_list = list(idendities.values())"
   ]
  },
  {
   "cell_type": "code",
   "execution_count": 14,
   "metadata": {},
   "outputs": [],
   "source": [
    "negatives = []\n",
    "\n",
    "for i in range(0, len(idendities) - 1):\n",
    "    for j in range(i+1, len(idendities)):\n",
    "        #print(samples_list[i], \" vs \",samples_list[j]) \n",
    "        cross_product = itertools.product(samples_list[i], samples_list[j])\n",
    "        cross_product = list(cross_product)\n",
    "        #print(cross_product)\n",
    "        \n",
    "        for cross_sample in cross_product:\n",
    "            #print(cross_sample[0], \" vs \", cross_sample[1])\n",
    "            negative = []\n",
    "            negative.append(cross_sample[0])\n",
    "            negative.append(cross_sample[1])\n",
    "            negatives.append(negative)"
   ]
  },
  {
   "cell_type": "code",
   "execution_count": 15,
   "metadata": {},
   "outputs": [],
   "source": [
    "negatives = pd.DataFrame(negatives, columns = [\"file_x\", \"file_y\"])\n",
    "negatives[\"decision\"] = \"No\""
   ]
  },
  {
   "cell_type": "code",
   "execution_count": 17,
   "metadata": {},
   "outputs": [],
   "source": [
    "df = pd.concat([positives, negatives]).reset_index(drop = True)"
   ]
  },
  {
   "cell_type": "code",
   "execution_count": 18,
   "metadata": {},
   "outputs": [
    {
     "data": {
      "text/plain": [
       "(276, 3)"
      ]
     },
     "execution_count": 18,
     "metadata": {},
     "output_type": "execute_result"
    }
   ],
   "source": [
    "df.shape"
   ]
  },
  {
   "cell_type": "code",
   "execution_count": 19,
   "metadata": {},
   "outputs": [
    {
     "data": {
      "text/plain": [
       "No     143\n",
       "Yes    133\n",
       "Name: decision, dtype: int64"
      ]
     },
     "execution_count": 19,
     "metadata": {},
     "output_type": "execute_result"
    }
   ],
   "source": [
    "df.decision.value_counts()"
   ]
  },
  {
   "cell_type": "code",
   "execution_count": 20,
   "metadata": {},
   "outputs": [],
   "source": [
    "from deepface import DeepFace"
   ]
  },
  {
   "cell_type": "code",
   "execution_count": 21,
   "metadata": {},
   "outputs": [],
   "source": [
    "instances = df[[\"file_x\", \"file_y\"]].values.tolist()"
   ]
  },
  {
   "cell_type": "code",
   "execution_count": 25,
   "metadata": {},
   "outputs": [
    {
     "name": "stdout",
     "output_type": "stream",
     "text": [
      "['C:/Users/quyennt72/Desktop/chinh_khach\\\\nguyen_xuan_phuc\\\\download (1).jpg', 'C:/Users/quyennt72/Desktop/chinh_khach\\\\nguyen_xuan_phuc\\\\download (10).jpg']\n",
      "['C:/Users/quyennt72/Desktop/chinh_khach\\\\nguyen_xuan_phuc\\\\download (1).jpg', 'C:/Users/quyennt72/Desktop/chinh_khach\\\\nguyen_xuan_phuc\\\\download (2).jpg']\n",
      "['C:/Users/quyennt72/Desktop/chinh_khach\\\\nguyen_xuan_phuc\\\\download (1).jpg', 'C:/Users/quyennt72/Desktop/chinh_khach\\\\nguyen_xuan_phuc\\\\download (3).jpg']\n",
      "['C:/Users/quyennt72/Desktop/chinh_khach\\\\nguyen_xuan_phuc\\\\download (1).jpg', 'C:/Users/quyennt72/Desktop/chinh_khach\\\\nguyen_xuan_phuc\\\\download (4).jpg']\n",
      "['C:/Users/quyennt72/Desktop/chinh_khach\\\\nguyen_xuan_phuc\\\\download (1).jpg', 'C:/Users/quyennt72/Desktop/chinh_khach\\\\nguyen_xuan_phuc\\\\download (5).jpg']\n",
      "['C:/Users/quyennt72/Desktop/chinh_khach\\\\nguyen_xuan_phuc\\\\download (1).jpg', 'C:/Users/quyennt72/Desktop/chinh_khach\\\\nguyen_xuan_phuc\\\\download (6).jpg']\n",
      "['C:/Users/quyennt72/Desktop/chinh_khach\\\\nguyen_xuan_phuc\\\\download (1).jpg', 'C:/Users/quyennt72/Desktop/chinh_khach\\\\nguyen_xuan_phuc\\\\download (7).jpg']\n",
      "['C:/Users/quyennt72/Desktop/chinh_khach\\\\nguyen_xuan_phuc\\\\download (1).jpg', 'C:/Users/quyennt72/Desktop/chinh_khach\\\\nguyen_xuan_phuc\\\\download (8).jpg']\n",
      "['C:/Users/quyennt72/Desktop/chinh_khach\\\\nguyen_xuan_phuc\\\\download (1).jpg', 'C:/Users/quyennt72/Desktop/chinh_khach\\\\nguyen_xuan_phuc\\\\download (9).jpg']\n",
      "['C:/Users/quyennt72/Desktop/chinh_khach\\\\nguyen_xuan_phuc\\\\download (1).jpg', 'C:/Users/quyennt72/Desktop/chinh_khach\\\\nguyen_xuan_phuc\\\\download.jpg']\n",
      "['C:/Users/quyennt72/Desktop/chinh_khach\\\\nguyen_xuan_phuc\\\\download (10).jpg', 'C:/Users/quyennt72/Desktop/chinh_khach\\\\nguyen_xuan_phuc\\\\download (2).jpg']\n",
      "['C:/Users/quyennt72/Desktop/chinh_khach\\\\nguyen_xuan_phuc\\\\download (10).jpg', 'C:/Users/quyennt72/Desktop/chinh_khach\\\\nguyen_xuan_phuc\\\\download (3).jpg']\n",
      "['C:/Users/quyennt72/Desktop/chinh_khach\\\\nguyen_xuan_phuc\\\\download (10).jpg', 'C:/Users/quyennt72/Desktop/chinh_khach\\\\nguyen_xuan_phuc\\\\download (4).jpg']\n",
      "['C:/Users/quyennt72/Desktop/chinh_khach\\\\nguyen_xuan_phuc\\\\download (10).jpg', 'C:/Users/quyennt72/Desktop/chinh_khach\\\\nguyen_xuan_phuc\\\\download (5).jpg']\n",
      "['C:/Users/quyennt72/Desktop/chinh_khach\\\\nguyen_xuan_phuc\\\\download (10).jpg', 'C:/Users/quyennt72/Desktop/chinh_khach\\\\nguyen_xuan_phuc\\\\download (6).jpg']\n",
      "['C:/Users/quyennt72/Desktop/chinh_khach\\\\nguyen_xuan_phuc\\\\download (10).jpg', 'C:/Users/quyennt72/Desktop/chinh_khach\\\\nguyen_xuan_phuc\\\\download (7).jpg']\n",
      "['C:/Users/quyennt72/Desktop/chinh_khach\\\\nguyen_xuan_phuc\\\\download (10).jpg', 'C:/Users/quyennt72/Desktop/chinh_khach\\\\nguyen_xuan_phuc\\\\download (8).jpg']\n",
      "['C:/Users/quyennt72/Desktop/chinh_khach\\\\nguyen_xuan_phuc\\\\download (10).jpg', 'C:/Users/quyennt72/Desktop/chinh_khach\\\\nguyen_xuan_phuc\\\\download (9).jpg']\n",
      "['C:/Users/quyennt72/Desktop/chinh_khach\\\\nguyen_xuan_phuc\\\\download (10).jpg', 'C:/Users/quyennt72/Desktop/chinh_khach\\\\nguyen_xuan_phuc\\\\download.jpg']\n",
      "['C:/Users/quyennt72/Desktop/chinh_khach\\\\nguyen_xuan_phuc\\\\download (2).jpg', 'C:/Users/quyennt72/Desktop/chinh_khach\\\\nguyen_xuan_phuc\\\\download (3).jpg']\n",
      "['C:/Users/quyennt72/Desktop/chinh_khach\\\\nguyen_xuan_phuc\\\\download (2).jpg', 'C:/Users/quyennt72/Desktop/chinh_khach\\\\nguyen_xuan_phuc\\\\download (4).jpg']\n",
      "['C:/Users/quyennt72/Desktop/chinh_khach\\\\nguyen_xuan_phuc\\\\download (2).jpg', 'C:/Users/quyennt72/Desktop/chinh_khach\\\\nguyen_xuan_phuc\\\\download (5).jpg']\n",
      "['C:/Users/quyennt72/Desktop/chinh_khach\\\\nguyen_xuan_phuc\\\\download (2).jpg', 'C:/Users/quyennt72/Desktop/chinh_khach\\\\nguyen_xuan_phuc\\\\download (6).jpg']\n",
      "['C:/Users/quyennt72/Desktop/chinh_khach\\\\nguyen_xuan_phuc\\\\download (2).jpg', 'C:/Users/quyennt72/Desktop/chinh_khach\\\\nguyen_xuan_phuc\\\\download (7).jpg']\n",
      "['C:/Users/quyennt72/Desktop/chinh_khach\\\\nguyen_xuan_phuc\\\\download (2).jpg', 'C:/Users/quyennt72/Desktop/chinh_khach\\\\nguyen_xuan_phuc\\\\download (8).jpg']\n",
      "['C:/Users/quyennt72/Desktop/chinh_khach\\\\nguyen_xuan_phuc\\\\download (2).jpg', 'C:/Users/quyennt72/Desktop/chinh_khach\\\\nguyen_xuan_phuc\\\\download (9).jpg']\n",
      "['C:/Users/quyennt72/Desktop/chinh_khach\\\\nguyen_xuan_phuc\\\\download (2).jpg', 'C:/Users/quyennt72/Desktop/chinh_khach\\\\nguyen_xuan_phuc\\\\download.jpg']\n",
      "['C:/Users/quyennt72/Desktop/chinh_khach\\\\nguyen_xuan_phuc\\\\download (3).jpg', 'C:/Users/quyennt72/Desktop/chinh_khach\\\\nguyen_xuan_phuc\\\\download (4).jpg']\n",
      "['C:/Users/quyennt72/Desktop/chinh_khach\\\\nguyen_xuan_phuc\\\\download (3).jpg', 'C:/Users/quyennt72/Desktop/chinh_khach\\\\nguyen_xuan_phuc\\\\download (5).jpg']\n",
      "['C:/Users/quyennt72/Desktop/chinh_khach\\\\nguyen_xuan_phuc\\\\download (3).jpg', 'C:/Users/quyennt72/Desktop/chinh_khach\\\\nguyen_xuan_phuc\\\\download (6).jpg']\n",
      "['C:/Users/quyennt72/Desktop/chinh_khach\\\\nguyen_xuan_phuc\\\\download (3).jpg', 'C:/Users/quyennt72/Desktop/chinh_khach\\\\nguyen_xuan_phuc\\\\download (7).jpg']\n",
      "['C:/Users/quyennt72/Desktop/chinh_khach\\\\nguyen_xuan_phuc\\\\download (3).jpg', 'C:/Users/quyennt72/Desktop/chinh_khach\\\\nguyen_xuan_phuc\\\\download (8).jpg']\n",
      "['C:/Users/quyennt72/Desktop/chinh_khach\\\\nguyen_xuan_phuc\\\\download (3).jpg', 'C:/Users/quyennt72/Desktop/chinh_khach\\\\nguyen_xuan_phuc\\\\download (9).jpg']\n",
      "['C:/Users/quyennt72/Desktop/chinh_khach\\\\nguyen_xuan_phuc\\\\download (3).jpg', 'C:/Users/quyennt72/Desktop/chinh_khach\\\\nguyen_xuan_phuc\\\\download.jpg']\n",
      "['C:/Users/quyennt72/Desktop/chinh_khach\\\\nguyen_xuan_phuc\\\\download (4).jpg', 'C:/Users/quyennt72/Desktop/chinh_khach\\\\nguyen_xuan_phuc\\\\download (5).jpg']\n",
      "['C:/Users/quyennt72/Desktop/chinh_khach\\\\nguyen_xuan_phuc\\\\download (4).jpg', 'C:/Users/quyennt72/Desktop/chinh_khach\\\\nguyen_xuan_phuc\\\\download (6).jpg']\n",
      "['C:/Users/quyennt72/Desktop/chinh_khach\\\\nguyen_xuan_phuc\\\\download (4).jpg', 'C:/Users/quyennt72/Desktop/chinh_khach\\\\nguyen_xuan_phuc\\\\download (7).jpg']\n",
      "['C:/Users/quyennt72/Desktop/chinh_khach\\\\nguyen_xuan_phuc\\\\download (4).jpg', 'C:/Users/quyennt72/Desktop/chinh_khach\\\\nguyen_xuan_phuc\\\\download (8).jpg']\n",
      "['C:/Users/quyennt72/Desktop/chinh_khach\\\\nguyen_xuan_phuc\\\\download (4).jpg', 'C:/Users/quyennt72/Desktop/chinh_khach\\\\nguyen_xuan_phuc\\\\download (9).jpg']\n",
      "['C:/Users/quyennt72/Desktop/chinh_khach\\\\nguyen_xuan_phuc\\\\download (4).jpg', 'C:/Users/quyennt72/Desktop/chinh_khach\\\\nguyen_xuan_phuc\\\\download.jpg']\n",
      "['C:/Users/quyennt72/Desktop/chinh_khach\\\\nguyen_xuan_phuc\\\\download (5).jpg', 'C:/Users/quyennt72/Desktop/chinh_khach\\\\nguyen_xuan_phuc\\\\download (6).jpg']\n",
      "['C:/Users/quyennt72/Desktop/chinh_khach\\\\nguyen_xuan_phuc\\\\download (5).jpg', 'C:/Users/quyennt72/Desktop/chinh_khach\\\\nguyen_xuan_phuc\\\\download (7).jpg']\n",
      "['C:/Users/quyennt72/Desktop/chinh_khach\\\\nguyen_xuan_phuc\\\\download (5).jpg', 'C:/Users/quyennt72/Desktop/chinh_khach\\\\nguyen_xuan_phuc\\\\download (8).jpg']\n",
      "['C:/Users/quyennt72/Desktop/chinh_khach\\\\nguyen_xuan_phuc\\\\download (5).jpg', 'C:/Users/quyennt72/Desktop/chinh_khach\\\\nguyen_xuan_phuc\\\\download (9).jpg']\n",
      "['C:/Users/quyennt72/Desktop/chinh_khach\\\\nguyen_xuan_phuc\\\\download (5).jpg', 'C:/Users/quyennt72/Desktop/chinh_khach\\\\nguyen_xuan_phuc\\\\download.jpg']\n",
      "['C:/Users/quyennt72/Desktop/chinh_khach\\\\nguyen_xuan_phuc\\\\download (6).jpg', 'C:/Users/quyennt72/Desktop/chinh_khach\\\\nguyen_xuan_phuc\\\\download (7).jpg']\n",
      "['C:/Users/quyennt72/Desktop/chinh_khach\\\\nguyen_xuan_phuc\\\\download (6).jpg', 'C:/Users/quyennt72/Desktop/chinh_khach\\\\nguyen_xuan_phuc\\\\download (8).jpg']\n",
      "['C:/Users/quyennt72/Desktop/chinh_khach\\\\nguyen_xuan_phuc\\\\download (6).jpg', 'C:/Users/quyennt72/Desktop/chinh_khach\\\\nguyen_xuan_phuc\\\\download (9).jpg']\n",
      "['C:/Users/quyennt72/Desktop/chinh_khach\\\\nguyen_xuan_phuc\\\\download (6).jpg', 'C:/Users/quyennt72/Desktop/chinh_khach\\\\nguyen_xuan_phuc\\\\download.jpg']\n",
      "['C:/Users/quyennt72/Desktop/chinh_khach\\\\nguyen_xuan_phuc\\\\download (7).jpg', 'C:/Users/quyennt72/Desktop/chinh_khach\\\\nguyen_xuan_phuc\\\\download (8).jpg']\n",
      "['C:/Users/quyennt72/Desktop/chinh_khach\\\\nguyen_xuan_phuc\\\\download (7).jpg', 'C:/Users/quyennt72/Desktop/chinh_khach\\\\nguyen_xuan_phuc\\\\download (9).jpg']\n",
      "['C:/Users/quyennt72/Desktop/chinh_khach\\\\nguyen_xuan_phuc\\\\download (7).jpg', 'C:/Users/quyennt72/Desktop/chinh_khach\\\\nguyen_xuan_phuc\\\\download.jpg']\n",
      "['C:/Users/quyennt72/Desktop/chinh_khach\\\\nguyen_xuan_phuc\\\\download (8).jpg', 'C:/Users/quyennt72/Desktop/chinh_khach\\\\nguyen_xuan_phuc\\\\download (9).jpg']\n",
      "['C:/Users/quyennt72/Desktop/chinh_khach\\\\nguyen_xuan_phuc\\\\download (8).jpg', 'C:/Users/quyennt72/Desktop/chinh_khach\\\\nguyen_xuan_phuc\\\\download.jpg']\n",
      "['C:/Users/quyennt72/Desktop/chinh_khach\\\\nguyen_xuan_phuc\\\\download (9).jpg', 'C:/Users/quyennt72/Desktop/chinh_khach\\\\nguyen_xuan_phuc\\\\download.jpg']\n",
      "['C:/Users/quyennt72/Desktop/chinh_khach\\\\pham_minh_chinh\\\\download (1).jpg', 'C:/Users/quyennt72/Desktop/chinh_khach\\\\pham_minh_chinh\\\\download (10).jpg']\n",
      "['C:/Users/quyennt72/Desktop/chinh_khach\\\\pham_minh_chinh\\\\download (1).jpg', 'C:/Users/quyennt72/Desktop/chinh_khach\\\\pham_minh_chinh\\\\download (11).jpg']\n",
      "['C:/Users/quyennt72/Desktop/chinh_khach\\\\pham_minh_chinh\\\\download (1).jpg', 'C:/Users/quyennt72/Desktop/chinh_khach\\\\pham_minh_chinh\\\\download (12).jpg']\n",
      "['C:/Users/quyennt72/Desktop/chinh_khach\\\\pham_minh_chinh\\\\download (1).jpg', 'C:/Users/quyennt72/Desktop/chinh_khach\\\\pham_minh_chinh\\\\download (2).jpg']\n",
      "['C:/Users/quyennt72/Desktop/chinh_khach\\\\pham_minh_chinh\\\\download (1).jpg', 'C:/Users/quyennt72/Desktop/chinh_khach\\\\pham_minh_chinh\\\\download (3).jpg']\n",
      "['C:/Users/quyennt72/Desktop/chinh_khach\\\\pham_minh_chinh\\\\download (1).jpg', 'C:/Users/quyennt72/Desktop/chinh_khach\\\\pham_minh_chinh\\\\download (4).jpg']\n",
      "['C:/Users/quyennt72/Desktop/chinh_khach\\\\pham_minh_chinh\\\\download (1).jpg', 'C:/Users/quyennt72/Desktop/chinh_khach\\\\pham_minh_chinh\\\\download (5).jpg']\n",
      "['C:/Users/quyennt72/Desktop/chinh_khach\\\\pham_minh_chinh\\\\download (1).jpg', 'C:/Users/quyennt72/Desktop/chinh_khach\\\\pham_minh_chinh\\\\download (6).jpg']\n",
      "['C:/Users/quyennt72/Desktop/chinh_khach\\\\pham_minh_chinh\\\\download (1).jpg', 'C:/Users/quyennt72/Desktop/chinh_khach\\\\pham_minh_chinh\\\\download (7).jpg']\n",
      "['C:/Users/quyennt72/Desktop/chinh_khach\\\\pham_minh_chinh\\\\download (1).jpg', 'C:/Users/quyennt72/Desktop/chinh_khach\\\\pham_minh_chinh\\\\download (8).jpg']\n",
      "['C:/Users/quyennt72/Desktop/chinh_khach\\\\pham_minh_chinh\\\\download (1).jpg', 'C:/Users/quyennt72/Desktop/chinh_khach\\\\pham_minh_chinh\\\\download (9).jpg']\n",
      "['C:/Users/quyennt72/Desktop/chinh_khach\\\\pham_minh_chinh\\\\download (1).jpg', 'C:/Users/quyennt72/Desktop/chinh_khach\\\\pham_minh_chinh\\\\download.jpg']\n",
      "['C:/Users/quyennt72/Desktop/chinh_khach\\\\pham_minh_chinh\\\\download (10).jpg', 'C:/Users/quyennt72/Desktop/chinh_khach\\\\pham_minh_chinh\\\\download (11).jpg']\n",
      "['C:/Users/quyennt72/Desktop/chinh_khach\\\\pham_minh_chinh\\\\download (10).jpg', 'C:/Users/quyennt72/Desktop/chinh_khach\\\\pham_minh_chinh\\\\download (12).jpg']\n",
      "['C:/Users/quyennt72/Desktop/chinh_khach\\\\pham_minh_chinh\\\\download (10).jpg', 'C:/Users/quyennt72/Desktop/chinh_khach\\\\pham_minh_chinh\\\\download (2).jpg']\n",
      "['C:/Users/quyennt72/Desktop/chinh_khach\\\\pham_minh_chinh\\\\download (10).jpg', 'C:/Users/quyennt72/Desktop/chinh_khach\\\\pham_minh_chinh\\\\download (3).jpg']\n",
      "['C:/Users/quyennt72/Desktop/chinh_khach\\\\pham_minh_chinh\\\\download (10).jpg', 'C:/Users/quyennt72/Desktop/chinh_khach\\\\pham_minh_chinh\\\\download (4).jpg']\n",
      "['C:/Users/quyennt72/Desktop/chinh_khach\\\\pham_minh_chinh\\\\download (10).jpg', 'C:/Users/quyennt72/Desktop/chinh_khach\\\\pham_minh_chinh\\\\download (5).jpg']\n",
      "['C:/Users/quyennt72/Desktop/chinh_khach\\\\pham_minh_chinh\\\\download (10).jpg', 'C:/Users/quyennt72/Desktop/chinh_khach\\\\pham_minh_chinh\\\\download (6).jpg']\n",
      "['C:/Users/quyennt72/Desktop/chinh_khach\\\\pham_minh_chinh\\\\download (10).jpg', 'C:/Users/quyennt72/Desktop/chinh_khach\\\\pham_minh_chinh\\\\download (7).jpg']\n",
      "['C:/Users/quyennt72/Desktop/chinh_khach\\\\pham_minh_chinh\\\\download (10).jpg', 'C:/Users/quyennt72/Desktop/chinh_khach\\\\pham_minh_chinh\\\\download (8).jpg']\n",
      "['C:/Users/quyennt72/Desktop/chinh_khach\\\\pham_minh_chinh\\\\download (10).jpg', 'C:/Users/quyennt72/Desktop/chinh_khach\\\\pham_minh_chinh\\\\download (9).jpg']\n",
      "['C:/Users/quyennt72/Desktop/chinh_khach\\\\pham_minh_chinh\\\\download (10).jpg', 'C:/Users/quyennt72/Desktop/chinh_khach\\\\pham_minh_chinh\\\\download.jpg']\n",
      "['C:/Users/quyennt72/Desktop/chinh_khach\\\\pham_minh_chinh\\\\download (11).jpg', 'C:/Users/quyennt72/Desktop/chinh_khach\\\\pham_minh_chinh\\\\download (12).jpg']\n",
      "['C:/Users/quyennt72/Desktop/chinh_khach\\\\pham_minh_chinh\\\\download (11).jpg', 'C:/Users/quyennt72/Desktop/chinh_khach\\\\pham_minh_chinh\\\\download (2).jpg']\n",
      "['C:/Users/quyennt72/Desktop/chinh_khach\\\\pham_minh_chinh\\\\download (11).jpg', 'C:/Users/quyennt72/Desktop/chinh_khach\\\\pham_minh_chinh\\\\download (3).jpg']\n",
      "['C:/Users/quyennt72/Desktop/chinh_khach\\\\pham_minh_chinh\\\\download (11).jpg', 'C:/Users/quyennt72/Desktop/chinh_khach\\\\pham_minh_chinh\\\\download (4).jpg']\n",
      "['C:/Users/quyennt72/Desktop/chinh_khach\\\\pham_minh_chinh\\\\download (11).jpg', 'C:/Users/quyennt72/Desktop/chinh_khach\\\\pham_minh_chinh\\\\download (5).jpg']\n",
      "['C:/Users/quyennt72/Desktop/chinh_khach\\\\pham_minh_chinh\\\\download (11).jpg', 'C:/Users/quyennt72/Desktop/chinh_khach\\\\pham_minh_chinh\\\\download (6).jpg']\n",
      "['C:/Users/quyennt72/Desktop/chinh_khach\\\\pham_minh_chinh\\\\download (11).jpg', 'C:/Users/quyennt72/Desktop/chinh_khach\\\\pham_minh_chinh\\\\download (7).jpg']\n",
      "['C:/Users/quyennt72/Desktop/chinh_khach\\\\pham_minh_chinh\\\\download (11).jpg', 'C:/Users/quyennt72/Desktop/chinh_khach\\\\pham_minh_chinh\\\\download (8).jpg']\n",
      "['C:/Users/quyennt72/Desktop/chinh_khach\\\\pham_minh_chinh\\\\download (11).jpg', 'C:/Users/quyennt72/Desktop/chinh_khach\\\\pham_minh_chinh\\\\download (9).jpg']\n",
      "['C:/Users/quyennt72/Desktop/chinh_khach\\\\pham_minh_chinh\\\\download (11).jpg', 'C:/Users/quyennt72/Desktop/chinh_khach\\\\pham_minh_chinh\\\\download.jpg']\n",
      "['C:/Users/quyennt72/Desktop/chinh_khach\\\\pham_minh_chinh\\\\download (12).jpg', 'C:/Users/quyennt72/Desktop/chinh_khach\\\\pham_minh_chinh\\\\download (2).jpg']\n",
      "['C:/Users/quyennt72/Desktop/chinh_khach\\\\pham_minh_chinh\\\\download (12).jpg', 'C:/Users/quyennt72/Desktop/chinh_khach\\\\pham_minh_chinh\\\\download (3).jpg']\n",
      "['C:/Users/quyennt72/Desktop/chinh_khach\\\\pham_minh_chinh\\\\download (12).jpg', 'C:/Users/quyennt72/Desktop/chinh_khach\\\\pham_minh_chinh\\\\download (4).jpg']\n",
      "['C:/Users/quyennt72/Desktop/chinh_khach\\\\pham_minh_chinh\\\\download (12).jpg', 'C:/Users/quyennt72/Desktop/chinh_khach\\\\pham_minh_chinh\\\\download (5).jpg']\n",
      "['C:/Users/quyennt72/Desktop/chinh_khach\\\\pham_minh_chinh\\\\download (12).jpg', 'C:/Users/quyennt72/Desktop/chinh_khach\\\\pham_minh_chinh\\\\download (6).jpg']\n",
      "['C:/Users/quyennt72/Desktop/chinh_khach\\\\pham_minh_chinh\\\\download (12).jpg', 'C:/Users/quyennt72/Desktop/chinh_khach\\\\pham_minh_chinh\\\\download (7).jpg']\n",
      "['C:/Users/quyennt72/Desktop/chinh_khach\\\\pham_minh_chinh\\\\download (12).jpg', 'C:/Users/quyennt72/Desktop/chinh_khach\\\\pham_minh_chinh\\\\download (8).jpg']\n",
      "['C:/Users/quyennt72/Desktop/chinh_khach\\\\pham_minh_chinh\\\\download (12).jpg', 'C:/Users/quyennt72/Desktop/chinh_khach\\\\pham_minh_chinh\\\\download (9).jpg']\n",
      "['C:/Users/quyennt72/Desktop/chinh_khach\\\\pham_minh_chinh\\\\download (12).jpg', 'C:/Users/quyennt72/Desktop/chinh_khach\\\\pham_minh_chinh\\\\download.jpg']\n",
      "['C:/Users/quyennt72/Desktop/chinh_khach\\\\pham_minh_chinh\\\\download (2).jpg', 'C:/Users/quyennt72/Desktop/chinh_khach\\\\pham_minh_chinh\\\\download (3).jpg']\n",
      "['C:/Users/quyennt72/Desktop/chinh_khach\\\\pham_minh_chinh\\\\download (2).jpg', 'C:/Users/quyennt72/Desktop/chinh_khach\\\\pham_minh_chinh\\\\download (4).jpg']\n",
      "['C:/Users/quyennt72/Desktop/chinh_khach\\\\pham_minh_chinh\\\\download (2).jpg', 'C:/Users/quyennt72/Desktop/chinh_khach\\\\pham_minh_chinh\\\\download (5).jpg']\n",
      "['C:/Users/quyennt72/Desktop/chinh_khach\\\\pham_minh_chinh\\\\download (2).jpg', 'C:/Users/quyennt72/Desktop/chinh_khach\\\\pham_minh_chinh\\\\download (6).jpg']\n",
      "['C:/Users/quyennt72/Desktop/chinh_khach\\\\pham_minh_chinh\\\\download (2).jpg', 'C:/Users/quyennt72/Desktop/chinh_khach\\\\pham_minh_chinh\\\\download (7).jpg']\n",
      "['C:/Users/quyennt72/Desktop/chinh_khach\\\\pham_minh_chinh\\\\download (2).jpg', 'C:/Users/quyennt72/Desktop/chinh_khach\\\\pham_minh_chinh\\\\download (8).jpg']\n",
      "['C:/Users/quyennt72/Desktop/chinh_khach\\\\pham_minh_chinh\\\\download (2).jpg', 'C:/Users/quyennt72/Desktop/chinh_khach\\\\pham_minh_chinh\\\\download (9).jpg']\n",
      "['C:/Users/quyennt72/Desktop/chinh_khach\\\\pham_minh_chinh\\\\download (2).jpg', 'C:/Users/quyennt72/Desktop/chinh_khach\\\\pham_minh_chinh\\\\download.jpg']\n",
      "['C:/Users/quyennt72/Desktop/chinh_khach\\\\pham_minh_chinh\\\\download (3).jpg', 'C:/Users/quyennt72/Desktop/chinh_khach\\\\pham_minh_chinh\\\\download (4).jpg']\n",
      "['C:/Users/quyennt72/Desktop/chinh_khach\\\\pham_minh_chinh\\\\download (3).jpg', 'C:/Users/quyennt72/Desktop/chinh_khach\\\\pham_minh_chinh\\\\download (5).jpg']\n",
      "['C:/Users/quyennt72/Desktop/chinh_khach\\\\pham_minh_chinh\\\\download (3).jpg', 'C:/Users/quyennt72/Desktop/chinh_khach\\\\pham_minh_chinh\\\\download (6).jpg']\n",
      "['C:/Users/quyennt72/Desktop/chinh_khach\\\\pham_minh_chinh\\\\download (3).jpg', 'C:/Users/quyennt72/Desktop/chinh_khach\\\\pham_minh_chinh\\\\download (7).jpg']\n",
      "['C:/Users/quyennt72/Desktop/chinh_khach\\\\pham_minh_chinh\\\\download (3).jpg', 'C:/Users/quyennt72/Desktop/chinh_khach\\\\pham_minh_chinh\\\\download (8).jpg']\n",
      "['C:/Users/quyennt72/Desktop/chinh_khach\\\\pham_minh_chinh\\\\download (3).jpg', 'C:/Users/quyennt72/Desktop/chinh_khach\\\\pham_minh_chinh\\\\download (9).jpg']\n",
      "['C:/Users/quyennt72/Desktop/chinh_khach\\\\pham_minh_chinh\\\\download (3).jpg', 'C:/Users/quyennt72/Desktop/chinh_khach\\\\pham_minh_chinh\\\\download.jpg']\n",
      "['C:/Users/quyennt72/Desktop/chinh_khach\\\\pham_minh_chinh\\\\download (4).jpg', 'C:/Users/quyennt72/Desktop/chinh_khach\\\\pham_minh_chinh\\\\download (5).jpg']\n",
      "['C:/Users/quyennt72/Desktop/chinh_khach\\\\pham_minh_chinh\\\\download (4).jpg', 'C:/Users/quyennt72/Desktop/chinh_khach\\\\pham_minh_chinh\\\\download (6).jpg']\n",
      "['C:/Users/quyennt72/Desktop/chinh_khach\\\\pham_minh_chinh\\\\download (4).jpg', 'C:/Users/quyennt72/Desktop/chinh_khach\\\\pham_minh_chinh\\\\download (7).jpg']\n",
      "['C:/Users/quyennt72/Desktop/chinh_khach\\\\pham_minh_chinh\\\\download (4).jpg', 'C:/Users/quyennt72/Desktop/chinh_khach\\\\pham_minh_chinh\\\\download (8).jpg']\n",
      "['C:/Users/quyennt72/Desktop/chinh_khach\\\\pham_minh_chinh\\\\download (4).jpg', 'C:/Users/quyennt72/Desktop/chinh_khach\\\\pham_minh_chinh\\\\download (9).jpg']\n",
      "['C:/Users/quyennt72/Desktop/chinh_khach\\\\pham_minh_chinh\\\\download (4).jpg', 'C:/Users/quyennt72/Desktop/chinh_khach\\\\pham_minh_chinh\\\\download.jpg']\n",
      "['C:/Users/quyennt72/Desktop/chinh_khach\\\\pham_minh_chinh\\\\download (5).jpg', 'C:/Users/quyennt72/Desktop/chinh_khach\\\\pham_minh_chinh\\\\download (6).jpg']\n",
      "['C:/Users/quyennt72/Desktop/chinh_khach\\\\pham_minh_chinh\\\\download (5).jpg', 'C:/Users/quyennt72/Desktop/chinh_khach\\\\pham_minh_chinh\\\\download (7).jpg']\n",
      "['C:/Users/quyennt72/Desktop/chinh_khach\\\\pham_minh_chinh\\\\download (5).jpg', 'C:/Users/quyennt72/Desktop/chinh_khach\\\\pham_minh_chinh\\\\download (8).jpg']\n",
      "['C:/Users/quyennt72/Desktop/chinh_khach\\\\pham_minh_chinh\\\\download (5).jpg', 'C:/Users/quyennt72/Desktop/chinh_khach\\\\pham_minh_chinh\\\\download (9).jpg']\n",
      "['C:/Users/quyennt72/Desktop/chinh_khach\\\\pham_minh_chinh\\\\download (5).jpg', 'C:/Users/quyennt72/Desktop/chinh_khach\\\\pham_minh_chinh\\\\download.jpg']\n",
      "['C:/Users/quyennt72/Desktop/chinh_khach\\\\pham_minh_chinh\\\\download (6).jpg', 'C:/Users/quyennt72/Desktop/chinh_khach\\\\pham_minh_chinh\\\\download (7).jpg']\n",
      "['C:/Users/quyennt72/Desktop/chinh_khach\\\\pham_minh_chinh\\\\download (6).jpg', 'C:/Users/quyennt72/Desktop/chinh_khach\\\\pham_minh_chinh\\\\download (8).jpg']\n",
      "['C:/Users/quyennt72/Desktop/chinh_khach\\\\pham_minh_chinh\\\\download (6).jpg', 'C:/Users/quyennt72/Desktop/chinh_khach\\\\pham_minh_chinh\\\\download (9).jpg']\n",
      "['C:/Users/quyennt72/Desktop/chinh_khach\\\\pham_minh_chinh\\\\download (6).jpg', 'C:/Users/quyennt72/Desktop/chinh_khach\\\\pham_minh_chinh\\\\download.jpg']\n",
      "['C:/Users/quyennt72/Desktop/chinh_khach\\\\pham_minh_chinh\\\\download (7).jpg', 'C:/Users/quyennt72/Desktop/chinh_khach\\\\pham_minh_chinh\\\\download (8).jpg']\n",
      "['C:/Users/quyennt72/Desktop/chinh_khach\\\\pham_minh_chinh\\\\download (7).jpg', 'C:/Users/quyennt72/Desktop/chinh_khach\\\\pham_minh_chinh\\\\download (9).jpg']\n",
      "['C:/Users/quyennt72/Desktop/chinh_khach\\\\pham_minh_chinh\\\\download (7).jpg', 'C:/Users/quyennt72/Desktop/chinh_khach\\\\pham_minh_chinh\\\\download.jpg']\n",
      "['C:/Users/quyennt72/Desktop/chinh_khach\\\\pham_minh_chinh\\\\download (8).jpg', 'C:/Users/quyennt72/Desktop/chinh_khach\\\\pham_minh_chinh\\\\download (9).jpg']\n",
      "['C:/Users/quyennt72/Desktop/chinh_khach\\\\pham_minh_chinh\\\\download (8).jpg', 'C:/Users/quyennt72/Desktop/chinh_khach\\\\pham_minh_chinh\\\\download.jpg']\n",
      "['C:/Users/quyennt72/Desktop/chinh_khach\\\\pham_minh_chinh\\\\download (9).jpg', 'C:/Users/quyennt72/Desktop/chinh_khach\\\\pham_minh_chinh\\\\download.jpg']\n",
      "['C:/Users/quyennt72/Desktop/chinh_khach\\\\nguyen_xuan_phuc\\\\download (1).jpg', 'C:/Users/quyennt72/Desktop/chinh_khach\\\\pham_minh_chinh\\\\download (1).jpg']\n",
      "['C:/Users/quyennt72/Desktop/chinh_khach\\\\nguyen_xuan_phuc\\\\download (1).jpg', 'C:/Users/quyennt72/Desktop/chinh_khach\\\\pham_minh_chinh\\\\download (10).jpg']\n",
      "['C:/Users/quyennt72/Desktop/chinh_khach\\\\nguyen_xuan_phuc\\\\download (1).jpg', 'C:/Users/quyennt72/Desktop/chinh_khach\\\\pham_minh_chinh\\\\download (11).jpg']\n",
      "['C:/Users/quyennt72/Desktop/chinh_khach\\\\nguyen_xuan_phuc\\\\download (1).jpg', 'C:/Users/quyennt72/Desktop/chinh_khach\\\\pham_minh_chinh\\\\download (12).jpg']\n",
      "['C:/Users/quyennt72/Desktop/chinh_khach\\\\nguyen_xuan_phuc\\\\download (1).jpg', 'C:/Users/quyennt72/Desktop/chinh_khach\\\\pham_minh_chinh\\\\download (2).jpg']\n",
      "['C:/Users/quyennt72/Desktop/chinh_khach\\\\nguyen_xuan_phuc\\\\download (1).jpg', 'C:/Users/quyennt72/Desktop/chinh_khach\\\\pham_minh_chinh\\\\download (3).jpg']\n",
      "['C:/Users/quyennt72/Desktop/chinh_khach\\\\nguyen_xuan_phuc\\\\download (1).jpg', 'C:/Users/quyennt72/Desktop/chinh_khach\\\\pham_minh_chinh\\\\download (4).jpg']\n",
      "['C:/Users/quyennt72/Desktop/chinh_khach\\\\nguyen_xuan_phuc\\\\download (1).jpg', 'C:/Users/quyennt72/Desktop/chinh_khach\\\\pham_minh_chinh\\\\download (5).jpg']\n",
      "['C:/Users/quyennt72/Desktop/chinh_khach\\\\nguyen_xuan_phuc\\\\download (1).jpg', 'C:/Users/quyennt72/Desktop/chinh_khach\\\\pham_minh_chinh\\\\download (6).jpg']\n",
      "['C:/Users/quyennt72/Desktop/chinh_khach\\\\nguyen_xuan_phuc\\\\download (1).jpg', 'C:/Users/quyennt72/Desktop/chinh_khach\\\\pham_minh_chinh\\\\download (7).jpg']\n",
      "['C:/Users/quyennt72/Desktop/chinh_khach\\\\nguyen_xuan_phuc\\\\download (1).jpg', 'C:/Users/quyennt72/Desktop/chinh_khach\\\\pham_minh_chinh\\\\download (8).jpg']\n",
      "['C:/Users/quyennt72/Desktop/chinh_khach\\\\nguyen_xuan_phuc\\\\download (1).jpg', 'C:/Users/quyennt72/Desktop/chinh_khach\\\\pham_minh_chinh\\\\download (9).jpg']\n",
      "['C:/Users/quyennt72/Desktop/chinh_khach\\\\nguyen_xuan_phuc\\\\download (1).jpg', 'C:/Users/quyennt72/Desktop/chinh_khach\\\\pham_minh_chinh\\\\download.jpg']\n",
      "['C:/Users/quyennt72/Desktop/chinh_khach\\\\nguyen_xuan_phuc\\\\download (10).jpg', 'C:/Users/quyennt72/Desktop/chinh_khach\\\\pham_minh_chinh\\\\download (1).jpg']\n",
      "['C:/Users/quyennt72/Desktop/chinh_khach\\\\nguyen_xuan_phuc\\\\download (10).jpg', 'C:/Users/quyennt72/Desktop/chinh_khach\\\\pham_minh_chinh\\\\download (10).jpg']\n",
      "['C:/Users/quyennt72/Desktop/chinh_khach\\\\nguyen_xuan_phuc\\\\download (10).jpg', 'C:/Users/quyennt72/Desktop/chinh_khach\\\\pham_minh_chinh\\\\download (11).jpg']\n",
      "['C:/Users/quyennt72/Desktop/chinh_khach\\\\nguyen_xuan_phuc\\\\download (10).jpg', 'C:/Users/quyennt72/Desktop/chinh_khach\\\\pham_minh_chinh\\\\download (12).jpg']\n",
      "['C:/Users/quyennt72/Desktop/chinh_khach\\\\nguyen_xuan_phuc\\\\download (10).jpg', 'C:/Users/quyennt72/Desktop/chinh_khach\\\\pham_minh_chinh\\\\download (2).jpg']\n",
      "['C:/Users/quyennt72/Desktop/chinh_khach\\\\nguyen_xuan_phuc\\\\download (10).jpg', 'C:/Users/quyennt72/Desktop/chinh_khach\\\\pham_minh_chinh\\\\download (3).jpg']\n",
      "['C:/Users/quyennt72/Desktop/chinh_khach\\\\nguyen_xuan_phuc\\\\download (10).jpg', 'C:/Users/quyennt72/Desktop/chinh_khach\\\\pham_minh_chinh\\\\download (4).jpg']\n",
      "['C:/Users/quyennt72/Desktop/chinh_khach\\\\nguyen_xuan_phuc\\\\download (10).jpg', 'C:/Users/quyennt72/Desktop/chinh_khach\\\\pham_minh_chinh\\\\download (5).jpg']\n",
      "['C:/Users/quyennt72/Desktop/chinh_khach\\\\nguyen_xuan_phuc\\\\download (10).jpg', 'C:/Users/quyennt72/Desktop/chinh_khach\\\\pham_minh_chinh\\\\download (6).jpg']\n",
      "['C:/Users/quyennt72/Desktop/chinh_khach\\\\nguyen_xuan_phuc\\\\download (10).jpg', 'C:/Users/quyennt72/Desktop/chinh_khach\\\\pham_minh_chinh\\\\download (7).jpg']\n",
      "['C:/Users/quyennt72/Desktop/chinh_khach\\\\nguyen_xuan_phuc\\\\download (10).jpg', 'C:/Users/quyennt72/Desktop/chinh_khach\\\\pham_minh_chinh\\\\download (8).jpg']\n",
      "['C:/Users/quyennt72/Desktop/chinh_khach\\\\nguyen_xuan_phuc\\\\download (10).jpg', 'C:/Users/quyennt72/Desktop/chinh_khach\\\\pham_minh_chinh\\\\download (9).jpg']\n",
      "['C:/Users/quyennt72/Desktop/chinh_khach\\\\nguyen_xuan_phuc\\\\download (10).jpg', 'C:/Users/quyennt72/Desktop/chinh_khach\\\\pham_minh_chinh\\\\download.jpg']\n",
      "['C:/Users/quyennt72/Desktop/chinh_khach\\\\nguyen_xuan_phuc\\\\download (2).jpg', 'C:/Users/quyennt72/Desktop/chinh_khach\\\\pham_minh_chinh\\\\download (1).jpg']\n",
      "['C:/Users/quyennt72/Desktop/chinh_khach\\\\nguyen_xuan_phuc\\\\download (2).jpg', 'C:/Users/quyennt72/Desktop/chinh_khach\\\\pham_minh_chinh\\\\download (10).jpg']\n",
      "['C:/Users/quyennt72/Desktop/chinh_khach\\\\nguyen_xuan_phuc\\\\download (2).jpg', 'C:/Users/quyennt72/Desktop/chinh_khach\\\\pham_minh_chinh\\\\download (11).jpg']\n",
      "['C:/Users/quyennt72/Desktop/chinh_khach\\\\nguyen_xuan_phuc\\\\download (2).jpg', 'C:/Users/quyennt72/Desktop/chinh_khach\\\\pham_minh_chinh\\\\download (12).jpg']\n",
      "['C:/Users/quyennt72/Desktop/chinh_khach\\\\nguyen_xuan_phuc\\\\download (2).jpg', 'C:/Users/quyennt72/Desktop/chinh_khach\\\\pham_minh_chinh\\\\download (2).jpg']\n",
      "['C:/Users/quyennt72/Desktop/chinh_khach\\\\nguyen_xuan_phuc\\\\download (2).jpg', 'C:/Users/quyennt72/Desktop/chinh_khach\\\\pham_minh_chinh\\\\download (3).jpg']\n",
      "['C:/Users/quyennt72/Desktop/chinh_khach\\\\nguyen_xuan_phuc\\\\download (2).jpg', 'C:/Users/quyennt72/Desktop/chinh_khach\\\\pham_minh_chinh\\\\download (4).jpg']\n",
      "['C:/Users/quyennt72/Desktop/chinh_khach\\\\nguyen_xuan_phuc\\\\download (2).jpg', 'C:/Users/quyennt72/Desktop/chinh_khach\\\\pham_minh_chinh\\\\download (5).jpg']\n",
      "['C:/Users/quyennt72/Desktop/chinh_khach\\\\nguyen_xuan_phuc\\\\download (2).jpg', 'C:/Users/quyennt72/Desktop/chinh_khach\\\\pham_minh_chinh\\\\download (6).jpg']\n",
      "['C:/Users/quyennt72/Desktop/chinh_khach\\\\nguyen_xuan_phuc\\\\download (2).jpg', 'C:/Users/quyennt72/Desktop/chinh_khach\\\\pham_minh_chinh\\\\download (7).jpg']\n",
      "['C:/Users/quyennt72/Desktop/chinh_khach\\\\nguyen_xuan_phuc\\\\download (2).jpg', 'C:/Users/quyennt72/Desktop/chinh_khach\\\\pham_minh_chinh\\\\download (8).jpg']\n",
      "['C:/Users/quyennt72/Desktop/chinh_khach\\\\nguyen_xuan_phuc\\\\download (2).jpg', 'C:/Users/quyennt72/Desktop/chinh_khach\\\\pham_minh_chinh\\\\download (9).jpg']\n",
      "['C:/Users/quyennt72/Desktop/chinh_khach\\\\nguyen_xuan_phuc\\\\download (2).jpg', 'C:/Users/quyennt72/Desktop/chinh_khach\\\\pham_minh_chinh\\\\download.jpg']\n",
      "['C:/Users/quyennt72/Desktop/chinh_khach\\\\nguyen_xuan_phuc\\\\download (3).jpg', 'C:/Users/quyennt72/Desktop/chinh_khach\\\\pham_minh_chinh\\\\download (1).jpg']\n",
      "['C:/Users/quyennt72/Desktop/chinh_khach\\\\nguyen_xuan_phuc\\\\download (3).jpg', 'C:/Users/quyennt72/Desktop/chinh_khach\\\\pham_minh_chinh\\\\download (10).jpg']\n",
      "['C:/Users/quyennt72/Desktop/chinh_khach\\\\nguyen_xuan_phuc\\\\download (3).jpg', 'C:/Users/quyennt72/Desktop/chinh_khach\\\\pham_minh_chinh\\\\download (11).jpg']\n",
      "['C:/Users/quyennt72/Desktop/chinh_khach\\\\nguyen_xuan_phuc\\\\download (3).jpg', 'C:/Users/quyennt72/Desktop/chinh_khach\\\\pham_minh_chinh\\\\download (12).jpg']\n",
      "['C:/Users/quyennt72/Desktop/chinh_khach\\\\nguyen_xuan_phuc\\\\download (3).jpg', 'C:/Users/quyennt72/Desktop/chinh_khach\\\\pham_minh_chinh\\\\download (2).jpg']\n",
      "['C:/Users/quyennt72/Desktop/chinh_khach\\\\nguyen_xuan_phuc\\\\download (3).jpg', 'C:/Users/quyennt72/Desktop/chinh_khach\\\\pham_minh_chinh\\\\download (3).jpg']\n",
      "['C:/Users/quyennt72/Desktop/chinh_khach\\\\nguyen_xuan_phuc\\\\download (3).jpg', 'C:/Users/quyennt72/Desktop/chinh_khach\\\\pham_minh_chinh\\\\download (4).jpg']\n",
      "['C:/Users/quyennt72/Desktop/chinh_khach\\\\nguyen_xuan_phuc\\\\download (3).jpg', 'C:/Users/quyennt72/Desktop/chinh_khach\\\\pham_minh_chinh\\\\download (5).jpg']\n",
      "['C:/Users/quyennt72/Desktop/chinh_khach\\\\nguyen_xuan_phuc\\\\download (3).jpg', 'C:/Users/quyennt72/Desktop/chinh_khach\\\\pham_minh_chinh\\\\download (6).jpg']\n",
      "['C:/Users/quyennt72/Desktop/chinh_khach\\\\nguyen_xuan_phuc\\\\download (3).jpg', 'C:/Users/quyennt72/Desktop/chinh_khach\\\\pham_minh_chinh\\\\download (7).jpg']\n",
      "['C:/Users/quyennt72/Desktop/chinh_khach\\\\nguyen_xuan_phuc\\\\download (3).jpg', 'C:/Users/quyennt72/Desktop/chinh_khach\\\\pham_minh_chinh\\\\download (8).jpg']\n",
      "['C:/Users/quyennt72/Desktop/chinh_khach\\\\nguyen_xuan_phuc\\\\download (3).jpg', 'C:/Users/quyennt72/Desktop/chinh_khach\\\\pham_minh_chinh\\\\download (9).jpg']\n",
      "['C:/Users/quyennt72/Desktop/chinh_khach\\\\nguyen_xuan_phuc\\\\download (3).jpg', 'C:/Users/quyennt72/Desktop/chinh_khach\\\\pham_minh_chinh\\\\download.jpg']\n",
      "['C:/Users/quyennt72/Desktop/chinh_khach\\\\nguyen_xuan_phuc\\\\download (4).jpg', 'C:/Users/quyennt72/Desktop/chinh_khach\\\\pham_minh_chinh\\\\download (1).jpg']\n",
      "['C:/Users/quyennt72/Desktop/chinh_khach\\\\nguyen_xuan_phuc\\\\download (4).jpg', 'C:/Users/quyennt72/Desktop/chinh_khach\\\\pham_minh_chinh\\\\download (10).jpg']\n",
      "['C:/Users/quyennt72/Desktop/chinh_khach\\\\nguyen_xuan_phuc\\\\download (4).jpg', 'C:/Users/quyennt72/Desktop/chinh_khach\\\\pham_minh_chinh\\\\download (11).jpg']\n",
      "['C:/Users/quyennt72/Desktop/chinh_khach\\\\nguyen_xuan_phuc\\\\download (4).jpg', 'C:/Users/quyennt72/Desktop/chinh_khach\\\\pham_minh_chinh\\\\download (12).jpg']\n",
      "['C:/Users/quyennt72/Desktop/chinh_khach\\\\nguyen_xuan_phuc\\\\download (4).jpg', 'C:/Users/quyennt72/Desktop/chinh_khach\\\\pham_minh_chinh\\\\download (2).jpg']\n",
      "['C:/Users/quyennt72/Desktop/chinh_khach\\\\nguyen_xuan_phuc\\\\download (4).jpg', 'C:/Users/quyennt72/Desktop/chinh_khach\\\\pham_minh_chinh\\\\download (3).jpg']\n",
      "['C:/Users/quyennt72/Desktop/chinh_khach\\\\nguyen_xuan_phuc\\\\download (4).jpg', 'C:/Users/quyennt72/Desktop/chinh_khach\\\\pham_minh_chinh\\\\download (4).jpg']\n",
      "['C:/Users/quyennt72/Desktop/chinh_khach\\\\nguyen_xuan_phuc\\\\download (4).jpg', 'C:/Users/quyennt72/Desktop/chinh_khach\\\\pham_minh_chinh\\\\download (5).jpg']\n",
      "['C:/Users/quyennt72/Desktop/chinh_khach\\\\nguyen_xuan_phuc\\\\download (4).jpg', 'C:/Users/quyennt72/Desktop/chinh_khach\\\\pham_minh_chinh\\\\download (6).jpg']\n",
      "['C:/Users/quyennt72/Desktop/chinh_khach\\\\nguyen_xuan_phuc\\\\download (4).jpg', 'C:/Users/quyennt72/Desktop/chinh_khach\\\\pham_minh_chinh\\\\download (7).jpg']\n",
      "['C:/Users/quyennt72/Desktop/chinh_khach\\\\nguyen_xuan_phuc\\\\download (4).jpg', 'C:/Users/quyennt72/Desktop/chinh_khach\\\\pham_minh_chinh\\\\download (8).jpg']\n",
      "['C:/Users/quyennt72/Desktop/chinh_khach\\\\nguyen_xuan_phuc\\\\download (4).jpg', 'C:/Users/quyennt72/Desktop/chinh_khach\\\\pham_minh_chinh\\\\download (9).jpg']\n",
      "['C:/Users/quyennt72/Desktop/chinh_khach\\\\nguyen_xuan_phuc\\\\download (4).jpg', 'C:/Users/quyennt72/Desktop/chinh_khach\\\\pham_minh_chinh\\\\download.jpg']\n",
      "['C:/Users/quyennt72/Desktop/chinh_khach\\\\nguyen_xuan_phuc\\\\download (5).jpg', 'C:/Users/quyennt72/Desktop/chinh_khach\\\\pham_minh_chinh\\\\download (1).jpg']\n",
      "['C:/Users/quyennt72/Desktop/chinh_khach\\\\nguyen_xuan_phuc\\\\download (5).jpg', 'C:/Users/quyennt72/Desktop/chinh_khach\\\\pham_minh_chinh\\\\download (10).jpg']\n",
      "['C:/Users/quyennt72/Desktop/chinh_khach\\\\nguyen_xuan_phuc\\\\download (5).jpg', 'C:/Users/quyennt72/Desktop/chinh_khach\\\\pham_minh_chinh\\\\download (11).jpg']\n",
      "['C:/Users/quyennt72/Desktop/chinh_khach\\\\nguyen_xuan_phuc\\\\download (5).jpg', 'C:/Users/quyennt72/Desktop/chinh_khach\\\\pham_minh_chinh\\\\download (12).jpg']\n",
      "['C:/Users/quyennt72/Desktop/chinh_khach\\\\nguyen_xuan_phuc\\\\download (5).jpg', 'C:/Users/quyennt72/Desktop/chinh_khach\\\\pham_minh_chinh\\\\download (2).jpg']\n",
      "['C:/Users/quyennt72/Desktop/chinh_khach\\\\nguyen_xuan_phuc\\\\download (5).jpg', 'C:/Users/quyennt72/Desktop/chinh_khach\\\\pham_minh_chinh\\\\download (3).jpg']\n",
      "['C:/Users/quyennt72/Desktop/chinh_khach\\\\nguyen_xuan_phuc\\\\download (5).jpg', 'C:/Users/quyennt72/Desktop/chinh_khach\\\\pham_minh_chinh\\\\download (4).jpg']\n",
      "['C:/Users/quyennt72/Desktop/chinh_khach\\\\nguyen_xuan_phuc\\\\download (5).jpg', 'C:/Users/quyennt72/Desktop/chinh_khach\\\\pham_minh_chinh\\\\download (5).jpg']\n",
      "['C:/Users/quyennt72/Desktop/chinh_khach\\\\nguyen_xuan_phuc\\\\download (5).jpg', 'C:/Users/quyennt72/Desktop/chinh_khach\\\\pham_minh_chinh\\\\download (6).jpg']\n",
      "['C:/Users/quyennt72/Desktop/chinh_khach\\\\nguyen_xuan_phuc\\\\download (5).jpg', 'C:/Users/quyennt72/Desktop/chinh_khach\\\\pham_minh_chinh\\\\download (7).jpg']\n",
      "['C:/Users/quyennt72/Desktop/chinh_khach\\\\nguyen_xuan_phuc\\\\download (5).jpg', 'C:/Users/quyennt72/Desktop/chinh_khach\\\\pham_minh_chinh\\\\download (8).jpg']\n",
      "['C:/Users/quyennt72/Desktop/chinh_khach\\\\nguyen_xuan_phuc\\\\download (5).jpg', 'C:/Users/quyennt72/Desktop/chinh_khach\\\\pham_minh_chinh\\\\download (9).jpg']\n",
      "['C:/Users/quyennt72/Desktop/chinh_khach\\\\nguyen_xuan_phuc\\\\download (5).jpg', 'C:/Users/quyennt72/Desktop/chinh_khach\\\\pham_minh_chinh\\\\download.jpg']\n",
      "['C:/Users/quyennt72/Desktop/chinh_khach\\\\nguyen_xuan_phuc\\\\download (6).jpg', 'C:/Users/quyennt72/Desktop/chinh_khach\\\\pham_minh_chinh\\\\download (1).jpg']\n",
      "['C:/Users/quyennt72/Desktop/chinh_khach\\\\nguyen_xuan_phuc\\\\download (6).jpg', 'C:/Users/quyennt72/Desktop/chinh_khach\\\\pham_minh_chinh\\\\download (10).jpg']\n",
      "['C:/Users/quyennt72/Desktop/chinh_khach\\\\nguyen_xuan_phuc\\\\download (6).jpg', 'C:/Users/quyennt72/Desktop/chinh_khach\\\\pham_minh_chinh\\\\download (11).jpg']\n",
      "['C:/Users/quyennt72/Desktop/chinh_khach\\\\nguyen_xuan_phuc\\\\download (6).jpg', 'C:/Users/quyennt72/Desktop/chinh_khach\\\\pham_minh_chinh\\\\download (12).jpg']\n",
      "['C:/Users/quyennt72/Desktop/chinh_khach\\\\nguyen_xuan_phuc\\\\download (6).jpg', 'C:/Users/quyennt72/Desktop/chinh_khach\\\\pham_minh_chinh\\\\download (2).jpg']\n",
      "['C:/Users/quyennt72/Desktop/chinh_khach\\\\nguyen_xuan_phuc\\\\download (6).jpg', 'C:/Users/quyennt72/Desktop/chinh_khach\\\\pham_minh_chinh\\\\download (3).jpg']\n",
      "['C:/Users/quyennt72/Desktop/chinh_khach\\\\nguyen_xuan_phuc\\\\download (6).jpg', 'C:/Users/quyennt72/Desktop/chinh_khach\\\\pham_minh_chinh\\\\download (4).jpg']\n",
      "['C:/Users/quyennt72/Desktop/chinh_khach\\\\nguyen_xuan_phuc\\\\download (6).jpg', 'C:/Users/quyennt72/Desktop/chinh_khach\\\\pham_minh_chinh\\\\download (5).jpg']\n",
      "['C:/Users/quyennt72/Desktop/chinh_khach\\\\nguyen_xuan_phuc\\\\download (6).jpg', 'C:/Users/quyennt72/Desktop/chinh_khach\\\\pham_minh_chinh\\\\download (6).jpg']\n",
      "['C:/Users/quyennt72/Desktop/chinh_khach\\\\nguyen_xuan_phuc\\\\download (6).jpg', 'C:/Users/quyennt72/Desktop/chinh_khach\\\\pham_minh_chinh\\\\download (7).jpg']\n",
      "['C:/Users/quyennt72/Desktop/chinh_khach\\\\nguyen_xuan_phuc\\\\download (6).jpg', 'C:/Users/quyennt72/Desktop/chinh_khach\\\\pham_minh_chinh\\\\download (8).jpg']\n",
      "['C:/Users/quyennt72/Desktop/chinh_khach\\\\nguyen_xuan_phuc\\\\download (6).jpg', 'C:/Users/quyennt72/Desktop/chinh_khach\\\\pham_minh_chinh\\\\download (9).jpg']\n",
      "['C:/Users/quyennt72/Desktop/chinh_khach\\\\nguyen_xuan_phuc\\\\download (6).jpg', 'C:/Users/quyennt72/Desktop/chinh_khach\\\\pham_minh_chinh\\\\download.jpg']\n",
      "['C:/Users/quyennt72/Desktop/chinh_khach\\\\nguyen_xuan_phuc\\\\download (7).jpg', 'C:/Users/quyennt72/Desktop/chinh_khach\\\\pham_minh_chinh\\\\download (1).jpg']\n",
      "['C:/Users/quyennt72/Desktop/chinh_khach\\\\nguyen_xuan_phuc\\\\download (7).jpg', 'C:/Users/quyennt72/Desktop/chinh_khach\\\\pham_minh_chinh\\\\download (10).jpg']\n",
      "['C:/Users/quyennt72/Desktop/chinh_khach\\\\nguyen_xuan_phuc\\\\download (7).jpg', 'C:/Users/quyennt72/Desktop/chinh_khach\\\\pham_minh_chinh\\\\download (11).jpg']\n",
      "['C:/Users/quyennt72/Desktop/chinh_khach\\\\nguyen_xuan_phuc\\\\download (7).jpg', 'C:/Users/quyennt72/Desktop/chinh_khach\\\\pham_minh_chinh\\\\download (12).jpg']\n",
      "['C:/Users/quyennt72/Desktop/chinh_khach\\\\nguyen_xuan_phuc\\\\download (7).jpg', 'C:/Users/quyennt72/Desktop/chinh_khach\\\\pham_minh_chinh\\\\download (2).jpg']\n",
      "['C:/Users/quyennt72/Desktop/chinh_khach\\\\nguyen_xuan_phuc\\\\download (7).jpg', 'C:/Users/quyennt72/Desktop/chinh_khach\\\\pham_minh_chinh\\\\download (3).jpg']\n",
      "['C:/Users/quyennt72/Desktop/chinh_khach\\\\nguyen_xuan_phuc\\\\download (7).jpg', 'C:/Users/quyennt72/Desktop/chinh_khach\\\\pham_minh_chinh\\\\download (4).jpg']\n",
      "['C:/Users/quyennt72/Desktop/chinh_khach\\\\nguyen_xuan_phuc\\\\download (7).jpg', 'C:/Users/quyennt72/Desktop/chinh_khach\\\\pham_minh_chinh\\\\download (5).jpg']\n",
      "['C:/Users/quyennt72/Desktop/chinh_khach\\\\nguyen_xuan_phuc\\\\download (7).jpg', 'C:/Users/quyennt72/Desktop/chinh_khach\\\\pham_minh_chinh\\\\download (6).jpg']\n",
      "['C:/Users/quyennt72/Desktop/chinh_khach\\\\nguyen_xuan_phuc\\\\download (7).jpg', 'C:/Users/quyennt72/Desktop/chinh_khach\\\\pham_minh_chinh\\\\download (7).jpg']\n",
      "['C:/Users/quyennt72/Desktop/chinh_khach\\\\nguyen_xuan_phuc\\\\download (7).jpg', 'C:/Users/quyennt72/Desktop/chinh_khach\\\\pham_minh_chinh\\\\download (8).jpg']\n",
      "['C:/Users/quyennt72/Desktop/chinh_khach\\\\nguyen_xuan_phuc\\\\download (7).jpg', 'C:/Users/quyennt72/Desktop/chinh_khach\\\\pham_minh_chinh\\\\download (9).jpg']\n",
      "['C:/Users/quyennt72/Desktop/chinh_khach\\\\nguyen_xuan_phuc\\\\download (7).jpg', 'C:/Users/quyennt72/Desktop/chinh_khach\\\\pham_minh_chinh\\\\download.jpg']\n",
      "['C:/Users/quyennt72/Desktop/chinh_khach\\\\nguyen_xuan_phuc\\\\download (8).jpg', 'C:/Users/quyennt72/Desktop/chinh_khach\\\\pham_minh_chinh\\\\download (1).jpg']\n",
      "['C:/Users/quyennt72/Desktop/chinh_khach\\\\nguyen_xuan_phuc\\\\download (8).jpg', 'C:/Users/quyennt72/Desktop/chinh_khach\\\\pham_minh_chinh\\\\download (10).jpg']\n",
      "['C:/Users/quyennt72/Desktop/chinh_khach\\\\nguyen_xuan_phuc\\\\download (8).jpg', 'C:/Users/quyennt72/Desktop/chinh_khach\\\\pham_minh_chinh\\\\download (11).jpg']\n",
      "['C:/Users/quyennt72/Desktop/chinh_khach\\\\nguyen_xuan_phuc\\\\download (8).jpg', 'C:/Users/quyennt72/Desktop/chinh_khach\\\\pham_minh_chinh\\\\download (12).jpg']\n",
      "['C:/Users/quyennt72/Desktop/chinh_khach\\\\nguyen_xuan_phuc\\\\download (8).jpg', 'C:/Users/quyennt72/Desktop/chinh_khach\\\\pham_minh_chinh\\\\download (2).jpg']\n",
      "['C:/Users/quyennt72/Desktop/chinh_khach\\\\nguyen_xuan_phuc\\\\download (8).jpg', 'C:/Users/quyennt72/Desktop/chinh_khach\\\\pham_minh_chinh\\\\download (3).jpg']\n",
      "['C:/Users/quyennt72/Desktop/chinh_khach\\\\nguyen_xuan_phuc\\\\download (8).jpg', 'C:/Users/quyennt72/Desktop/chinh_khach\\\\pham_minh_chinh\\\\download (4).jpg']\n",
      "['C:/Users/quyennt72/Desktop/chinh_khach\\\\nguyen_xuan_phuc\\\\download (8).jpg', 'C:/Users/quyennt72/Desktop/chinh_khach\\\\pham_minh_chinh\\\\download (5).jpg']\n",
      "['C:/Users/quyennt72/Desktop/chinh_khach\\\\nguyen_xuan_phuc\\\\download (8).jpg', 'C:/Users/quyennt72/Desktop/chinh_khach\\\\pham_minh_chinh\\\\download (6).jpg']\n",
      "['C:/Users/quyennt72/Desktop/chinh_khach\\\\nguyen_xuan_phuc\\\\download (8).jpg', 'C:/Users/quyennt72/Desktop/chinh_khach\\\\pham_minh_chinh\\\\download (7).jpg']\n",
      "['C:/Users/quyennt72/Desktop/chinh_khach\\\\nguyen_xuan_phuc\\\\download (8).jpg', 'C:/Users/quyennt72/Desktop/chinh_khach\\\\pham_minh_chinh\\\\download (8).jpg']\n",
      "['C:/Users/quyennt72/Desktop/chinh_khach\\\\nguyen_xuan_phuc\\\\download (8).jpg', 'C:/Users/quyennt72/Desktop/chinh_khach\\\\pham_minh_chinh\\\\download (9).jpg']\n",
      "['C:/Users/quyennt72/Desktop/chinh_khach\\\\nguyen_xuan_phuc\\\\download (8).jpg', 'C:/Users/quyennt72/Desktop/chinh_khach\\\\pham_minh_chinh\\\\download.jpg']\n",
      "['C:/Users/quyennt72/Desktop/chinh_khach\\\\nguyen_xuan_phuc\\\\download (9).jpg', 'C:/Users/quyennt72/Desktop/chinh_khach\\\\pham_minh_chinh\\\\download (1).jpg']\n",
      "['C:/Users/quyennt72/Desktop/chinh_khach\\\\nguyen_xuan_phuc\\\\download (9).jpg', 'C:/Users/quyennt72/Desktop/chinh_khach\\\\pham_minh_chinh\\\\download (10).jpg']\n",
      "['C:/Users/quyennt72/Desktop/chinh_khach\\\\nguyen_xuan_phuc\\\\download (9).jpg', 'C:/Users/quyennt72/Desktop/chinh_khach\\\\pham_minh_chinh\\\\download (11).jpg']\n",
      "['C:/Users/quyennt72/Desktop/chinh_khach\\\\nguyen_xuan_phuc\\\\download (9).jpg', 'C:/Users/quyennt72/Desktop/chinh_khach\\\\pham_minh_chinh\\\\download (12).jpg']\n",
      "['C:/Users/quyennt72/Desktop/chinh_khach\\\\nguyen_xuan_phuc\\\\download (9).jpg', 'C:/Users/quyennt72/Desktop/chinh_khach\\\\pham_minh_chinh\\\\download (2).jpg']\n",
      "['C:/Users/quyennt72/Desktop/chinh_khach\\\\nguyen_xuan_phuc\\\\download (9).jpg', 'C:/Users/quyennt72/Desktop/chinh_khach\\\\pham_minh_chinh\\\\download (3).jpg']\n",
      "['C:/Users/quyennt72/Desktop/chinh_khach\\\\nguyen_xuan_phuc\\\\download (9).jpg', 'C:/Users/quyennt72/Desktop/chinh_khach\\\\pham_minh_chinh\\\\download (4).jpg']\n",
      "['C:/Users/quyennt72/Desktop/chinh_khach\\\\nguyen_xuan_phuc\\\\download (9).jpg', 'C:/Users/quyennt72/Desktop/chinh_khach\\\\pham_minh_chinh\\\\download (5).jpg']\n",
      "['C:/Users/quyennt72/Desktop/chinh_khach\\\\nguyen_xuan_phuc\\\\download (9).jpg', 'C:/Users/quyennt72/Desktop/chinh_khach\\\\pham_minh_chinh\\\\download (6).jpg']\n",
      "['C:/Users/quyennt72/Desktop/chinh_khach\\\\nguyen_xuan_phuc\\\\download (9).jpg', 'C:/Users/quyennt72/Desktop/chinh_khach\\\\pham_minh_chinh\\\\download (7).jpg']\n",
      "['C:/Users/quyennt72/Desktop/chinh_khach\\\\nguyen_xuan_phuc\\\\download (9).jpg', 'C:/Users/quyennt72/Desktop/chinh_khach\\\\pham_minh_chinh\\\\download (8).jpg']\n",
      "['C:/Users/quyennt72/Desktop/chinh_khach\\\\nguyen_xuan_phuc\\\\download (9).jpg', 'C:/Users/quyennt72/Desktop/chinh_khach\\\\pham_minh_chinh\\\\download (9).jpg']\n",
      "['C:/Users/quyennt72/Desktop/chinh_khach\\\\nguyen_xuan_phuc\\\\download (9).jpg', 'C:/Users/quyennt72/Desktop/chinh_khach\\\\pham_minh_chinh\\\\download.jpg']\n",
      "['C:/Users/quyennt72/Desktop/chinh_khach\\\\nguyen_xuan_phuc\\\\download.jpg', 'C:/Users/quyennt72/Desktop/chinh_khach\\\\pham_minh_chinh\\\\download (1).jpg']\n",
      "['C:/Users/quyennt72/Desktop/chinh_khach\\\\nguyen_xuan_phuc\\\\download.jpg', 'C:/Users/quyennt72/Desktop/chinh_khach\\\\pham_minh_chinh\\\\download (10).jpg']\n",
      "['C:/Users/quyennt72/Desktop/chinh_khach\\\\nguyen_xuan_phuc\\\\download.jpg', 'C:/Users/quyennt72/Desktop/chinh_khach\\\\pham_minh_chinh\\\\download (11).jpg']\n",
      "['C:/Users/quyennt72/Desktop/chinh_khach\\\\nguyen_xuan_phuc\\\\download.jpg', 'C:/Users/quyennt72/Desktop/chinh_khach\\\\pham_minh_chinh\\\\download (12).jpg']\n",
      "['C:/Users/quyennt72/Desktop/chinh_khach\\\\nguyen_xuan_phuc\\\\download.jpg', 'C:/Users/quyennt72/Desktop/chinh_khach\\\\pham_minh_chinh\\\\download (2).jpg']\n",
      "['C:/Users/quyennt72/Desktop/chinh_khach\\\\nguyen_xuan_phuc\\\\download.jpg', 'C:/Users/quyennt72/Desktop/chinh_khach\\\\pham_minh_chinh\\\\download (3).jpg']\n",
      "['C:/Users/quyennt72/Desktop/chinh_khach\\\\nguyen_xuan_phuc\\\\download.jpg', 'C:/Users/quyennt72/Desktop/chinh_khach\\\\pham_minh_chinh\\\\download (4).jpg']\n",
      "['C:/Users/quyennt72/Desktop/chinh_khach\\\\nguyen_xuan_phuc\\\\download.jpg', 'C:/Users/quyennt72/Desktop/chinh_khach\\\\pham_minh_chinh\\\\download (5).jpg']\n",
      "['C:/Users/quyennt72/Desktop/chinh_khach\\\\nguyen_xuan_phuc\\\\download.jpg', 'C:/Users/quyennt72/Desktop/chinh_khach\\\\pham_minh_chinh\\\\download (6).jpg']\n",
      "['C:/Users/quyennt72/Desktop/chinh_khach\\\\nguyen_xuan_phuc\\\\download.jpg', 'C:/Users/quyennt72/Desktop/chinh_khach\\\\pham_minh_chinh\\\\download (7).jpg']\n",
      "['C:/Users/quyennt72/Desktop/chinh_khach\\\\nguyen_xuan_phuc\\\\download.jpg', 'C:/Users/quyennt72/Desktop/chinh_khach\\\\pham_minh_chinh\\\\download (8).jpg']\n",
      "['C:/Users/quyennt72/Desktop/chinh_khach\\\\nguyen_xuan_phuc\\\\download.jpg', 'C:/Users/quyennt72/Desktop/chinh_khach\\\\pham_minh_chinh\\\\download (9).jpg']\n",
      "['C:/Users/quyennt72/Desktop/chinh_khach\\\\nguyen_xuan_phuc\\\\download.jpg', 'C:/Users/quyennt72/Desktop/chinh_khach\\\\pham_minh_chinh\\\\download.jpg']\n"
     ]
    }
   ],
   "source": [
    "for i in instances:\n",
    "    print(i)"
   ]
  },
  {
   "cell_type": "code",
   "execution_count": 27,
   "metadata": {},
   "outputs": [],
   "source": [
    "model_name = \"VGG-Face\"\n",
    "distance_metric = \"cosine\"\n",
    "detector_backend = \"retinaface\"\n",
    "normalization = \"VGGFace\""
   ]
  },
  {
   "cell_type": "code",
   "execution_count": null,
   "metadata": {},
   "outputs": [],
   "source": [
    "resp_obj = DeepFace.verify(instances, model_name = model_name, distance_metric = distance_metric, detector_backend=detector_backend, normalization=normalization)"
   ]
  },
  {
   "cell_type": "code",
   "execution_count": 29,
   "metadata": {},
   "outputs": [],
   "source": [
    "distances = []\n",
    "for i in range(0, len(instances)):\n",
    "    distance = round(resp_obj[\"pair_%s\" % (i+1)][\"distance\"], 4)\n",
    "    distances.append(distance)"
   ]
  },
  {
   "cell_type": "code",
   "execution_count": 30,
   "metadata": {},
   "outputs": [],
   "source": [
    "df[\"distance\"] = distances"
   ]
  },
  {
   "cell_type": "code",
   "execution_count": 31,
   "metadata": {},
   "outputs": [],
   "source": [
    "tp_mean = round(df[df.decision == \"Yes\"].mean().values[0], 4)\n",
    "tp_std = round(df[df.decision == \"Yes\"].std().values[0], 4)\n",
    "fp_mean = round(df[df.decision == \"No\"].mean().values[0], 4)\n",
    "fp_std = round(df[df.decision == \"No\"].std().values[0], 4)\n",
    "print(\"Mean of true positives: \", tp_mean)\n",
    "print(\"Std of true positives: \", tp_std)\n",
    "print(\"Mean of false positives: \", fp_mean)\n",
    "print(\"Std of false positives: \", fp_std)"
   ]
  },
  {
   "cell_type": "code",
   "execution_count": 44,
   "metadata": {},
   "outputs": [
    {
     "data": {
      "text/plain": [
       "<matplotlib.legend.Legend at 0x206910a0fc8>"
      ]
     },
     "execution_count": 44,
     "metadata": {},
     "output_type": "execute_result"
    },
    {
     "data": {
      "image/png": "[encoded data removed]",
      "text/plain": [
       "<Figure size 432x288 with 1 Axes>"
      ]
     },
     "metadata": {
      "needs_background": "light"
     },
     "output_type": "display_data"
    }
   ],
   "source": [
    "a = df[df.decision == \"Yes\"].distance.plot.kde(label='yes')\n",
    "a = df[df.decision == \"No\"].distance.plot.kde(label='no')\n",
    "threshold = round(tp_mean + 2 * tp_std, 4)\n",
    "a.axvline(x=threshold)\n",
    "a.legend()"
   ]
  },
  {
   "cell_type": "code",
   "execution_count": null,
   "metadata": {},
   "outputs": [],
   "source": [
    "threshold = round(tp_mean + 4 * tp_std, 4)"
   ]
  },
  {
   "cell_type": "code",
   "execution_count": 1,
   "metadata": {},
   "outputs": [],
   "source": [
    "import numpy as np\n",
    "\n",
    "from scipy import spatial\n",
    "\n",
    "from deepface.DeepFace import build_model\n",
    "\n",
    "model = build_model('Facenet512')\n",
    "\n",
    "a = np.load('./database/nguyen_xuan_phuc.npy')\n",
    "b = np.load('./database/pham_minh_chinh.npy')\n",
    "\n",
    "pos = []\n",
    "neg = []\n",
    "for i, embedding1 in enumerate(a):\n",
    "    for j, embedding2 in enumerate(a):\n",
    "        dis = spatial.distance.cosine(embedding1, embedding2)\n",
    "        pos.append(dis)\n",
    "for i, embedding1 in enumerate(b):\n",
    "    for j, embedding2 in enumerate(b):\n",
    "        dis = spatial.distance.cosine(embedding1, embedding2)\n",
    "        pos.append(dis)\n",
    "\n",
    "for i, embedding1 in enumerate(a):\n",
    "    for j, embedding2 in enumerate(b):\n",
    "        dis = spatial.distance.cosine(embedding1, embedding2)\n",
    "        neg.append(dis)\n",
    "\n"
   ]
  },
  {
   "cell_type": "code",
   "execution_count": 2,
   "metadata": {},
   "outputs": [
    {
     "name": "stdout",
     "output_type": "stream",
     "text": [
      "0.5996777659156094\n",
      "0\n",
      "0.28521366927918435\n",
      "0.6468299792085042\n"
     ]
    }
   ],
   "source": [
    "print(max(pos))\n",
    "print(min(pos))\n",
    "print(min(neg))\n",
    "print(max(neg))"
   ]
  },
  {
   "cell_type": "code",
   "execution_count": 21,
   "metadata": {},
   "outputs": [
    {
     "data": {
      "image/png": "[encoded data removed]",
      "text/plain": [
       "<Figure size 432x288 with 1 Axes>"
      ]
     },
     "metadata": {
      "needs_background": "light"
     },
     "output_type": "display_data"
    }
   ],
   "source": [
    "import matplotlib.pyplot as plt\n",
    "import seaborn as sns\n",
    "sns.kdeplot(pos, label='pos', color='green')\n",
    "sns.kdeplot(neg, label='neg', color='pink')\n",
    "threshold = round(tp_mean + 0.5 * tp_std, 4)\n",
    "plt.axvline(x=threshold, label='threshold', color='navy')\n",
    "plt.axvline(x=tp_mean, color='green')\n",
    "plt.axvline(x=fp_mean, color='pink')\n",
    "plt.legend()\n",
    "plt.show()"
   ]
  },
  {
   "cell_type": "code",
   "execution_count": 22,
   "metadata": {},
   "outputs": [
    {
     "data": {
      "text/plain": [
       "0.2553"
      ]
     },
     "execution_count": 22,
     "metadata": {},
     "output_type": "execute_result"
    }
   ],
   "source": [
    "threshold"
   ]
  },
  {
   "cell_type": "code",
   "execution_count": 11,
   "metadata": {},
   "outputs": [
    {
     "name": "stdout",
     "output_type": "stream",
     "text": [
      "Mean of true positives:  0.1894\n",
      "Std of true positives:  0.1317\n",
      "Mean of false positives:  0.4362\n",
      "Std of false positives:  0.0832\n"
     ]
    }
   ],
   "source": [
    "tp_mean = round(np.mean(pos), 4)\n",
    "tp_std = round(np.std(pos), 4)\n",
    "fp_mean = round(np.mean(neg), 4)\n",
    "fp_std = round(np.std(neg), 4)\n",
    "print(\"Mean of true positives: \", tp_mean)\n",
    "print(\"Std of true positives: \", tp_std)\n",
    "print(\"Mean of false positives: \", fp_mean)\n",
    "print(\"Std of false positives: \", fp_std)"
   ]
  }
 ],
 "metadata": {
  "interpreter": {
   "hash": "95b3f81ad7ab864e7350b7c57fa2145758540b9f50cb672dce1d73a6a46bcfee"
  },
  "kernelspec": {
   "display_name": "Python 3.7.13 ('nsfw')",
   "language": "python",
   "name": "python3"
  },
  "language_info": {
   "codemirror_mode": {
    "name": "ipython",
    "version": 3
   },
   "file_extension": ".py",
   "mimetype": "text/x-python",
   "name": "python",
   "nbconvert_exporter": "python",
   "pygments_lexer": "ipython3",
   "version": "3.7.13"
  },
  "orig_nbformat": 4
 },
 "nbformat": 4,
 "nbformat_minor": 2
}
